{
  "nbformat": 4,
  "nbformat_minor": 0,
  "metadata": {
    "colab": {
      "name": "Ujian Last(Iqbal Mahfudzi).ipynb",
      "provenance": [],
      "collapsed_sections": []
    },
    "kernelspec": {
      "name": "python3",
      "display_name": "Python 3"
    },
    "language_info": {
      "name": "python"
    }
  },
  "cells": [
    {
      "cell_type": "markdown",
      "source": [
        "# **Soal 1**"
      ],
      "metadata": {
        "id": "Xz3vPh3hXw_W"
      }
    },
    {
      "cell_type": "markdown",
      "source": [
        "Import Library"
      ],
      "metadata": {
        "id": "h6CSw4YQTgk-"
      }
    },
    {
      "cell_type": "markdown",
      "source": [
        "Lakukan import terlebih dahulu semua library yang dibutuhkan agar pengolahan data dapat dijalankan dengan benar."
      ],
      "metadata": {
        "id": "6Pr5GPb6Tg1E"
      }
    },
    {
      "cell_type": "code",
      "execution_count": null,
      "metadata": {
        "id": "YTUtI4KTmdik"
      },
      "outputs": [],
      "source": [
        "import pandas as pd\n",
        "import numpy as np\n",
        "import matplotlib.pyplot as plt\n",
        "import seaborn as sns"
      ]
    },
    {
      "cell_type": "markdown",
      "source": [
        "Kemudian, file csv yang telah diupload. Kita import dari database yang ada di colab."
      ],
      "metadata": {
        "id": "PtosNJZDT-eh"
      }
    },
    {
      "cell_type": "code",
      "source": [
        "df = pd.read_csv('sample_data/movie.csv')\n",
        "df"
      ],
      "metadata": {
        "colab": {
          "base_uri": "https://localhost:8080/",
          "height": 1000
        },
        "id": "zcKsBqJwnr11",
        "outputId": "a7ad5f97-3e96-4e32-d0e2-1d809342eca3"
      },
      "execution_count": null,
      "outputs": [
        {
          "output_type": "stream",
          "name": "stderr",
          "text": [
            "/usr/local/lib/python3.7/dist-packages/IPython/core/interactiveshell.py:2882: DtypeWarning: Columns (10) have mixed types.Specify dtype option on import or set low_memory=False.\n",
            "  exec(code_obj, self.user_global_ns, self.user_ns)\n"
          ]
        },
        {
          "output_type": "execute_result",
          "data": {
            "text/plain": [
              "       adult                              belongs_to_collection    budget  \\\n",
              "0      False  {'id': 10194, 'name': 'Toy Story Collection', ...  30000000   \n",
              "1      False                                                NaN  65000000   \n",
              "2      False  {'id': 119050, 'name': 'Grumpy Old Men Collect...         0   \n",
              "3      False                                                NaN  16000000   \n",
              "4      False  {'id': 96871, 'name': 'Father of the Bride Col...         0   \n",
              "...      ...                                                ...       ...   \n",
              "45461  False                                                NaN         0   \n",
              "45462  False                                                NaN         0   \n",
              "45463  False                                                NaN         0   \n",
              "45464  False                                                NaN         0   \n",
              "45465  False                                                NaN         0   \n",
              "\n",
              "                                                  genres  \\\n",
              "0      [{'id': 16, 'name': 'Animation'}, {'id': 35, '...   \n",
              "1      [{'id': 12, 'name': 'Adventure'}, {'id': 14, '...   \n",
              "2      [{'id': 10749, 'name': 'Romance'}, {'id': 35, ...   \n",
              "3      [{'id': 35, 'name': 'Comedy'}, {'id': 18, 'nam...   \n",
              "4                         [{'id': 35, 'name': 'Comedy'}]   \n",
              "...                                                  ...   \n",
              "45461  [{'id': 18, 'name': 'Drama'}, {'id': 10751, 'n...   \n",
              "45462                      [{'id': 18, 'name': 'Drama'}]   \n",
              "45463  [{'id': 28, 'name': 'Action'}, {'id': 18, 'nam...   \n",
              "45464                                                 []   \n",
              "45465                                                 []   \n",
              "\n",
              "                                   homepage      id    imdb_id  \\\n",
              "0      http://toystory.disney.com/toy-story     862  tt0114709   \n",
              "1                                       NaN    8844  tt0113497   \n",
              "2                                       NaN   15602  tt0113228   \n",
              "3                                       NaN   31357  tt0114885   \n",
              "4                                       NaN   11862  tt0113041   \n",
              "...                                     ...     ...        ...   \n",
              "45461  http://www.imdb.com/title/tt6209470/  439050  tt6209470   \n",
              "45462                                   NaN  111109  tt2028550   \n",
              "45463                                   NaN   67758  tt0303758   \n",
              "45464                                   NaN  227506  tt0008536   \n",
              "45465                                   NaN  461257  tt6980792   \n",
              "\n",
              "      original_language               original_title  \\\n",
              "0                    en                    Toy Story   \n",
              "1                    en                      Jumanji   \n",
              "2                    en             Grumpier Old Men   \n",
              "3                    en            Waiting to Exhale   \n",
              "4                    en  Father of the Bride Part II   \n",
              "...                 ...                          ...   \n",
              "45461                fa                      رگ خواب   \n",
              "45462                tl          Siglo ng Pagluluwal   \n",
              "45463                en                     Betrayal   \n",
              "45464                en          Satana likuyushchiy   \n",
              "45465                en                     Queerama   \n",
              "\n",
              "                                                overview  ... release_date  \\\n",
              "0      Led by Woody, Andy's toys live happily in his ...  ...   1995-10-30   \n",
              "1      When siblings Judy and Peter discover an encha...  ...   1995-12-15   \n",
              "2      A family wedding reignites the ancient feud be...  ...   1995-12-22   \n",
              "3      Cheated on, mistreated and stepped on, the wom...  ...   1995-12-22   \n",
              "4      Just when George Banks has recovered from his ...  ...   1995-02-10   \n",
              "...                                                  ...  ...          ...   \n",
              "45461        Rising and falling between a man and woman.  ...          NaN   \n",
              "45462  An artist struggles to finish his work while a...  ...   2011-11-17   \n",
              "45463  When one of her hits goes wrong, a professiona...  ...   2003-08-01   \n",
              "45464  In a small town live two brothers, one a minis...  ...   1917-10-21   \n",
              "45465  50 years after decriminalisation of homosexual...  ...   2017-06-09   \n",
              "\n",
              "           revenue runtime                                   spoken_languages  \\\n",
              "0      373554033.0    81.0           [{'iso_639_1': 'en', 'name': 'English'}]   \n",
              "1      262797249.0   104.0  [{'iso_639_1': 'en', 'name': 'English'}, {'iso...   \n",
              "2              0.0   101.0           [{'iso_639_1': 'en', 'name': 'English'}]   \n",
              "3       81452156.0   127.0           [{'iso_639_1': 'en', 'name': 'English'}]   \n",
              "4       76578911.0   106.0           [{'iso_639_1': 'en', 'name': 'English'}]   \n",
              "...            ...     ...                                                ...   \n",
              "45461          0.0    90.0             [{'iso_639_1': 'fa', 'name': 'فارسی'}]   \n",
              "45462          0.0   360.0                  [{'iso_639_1': 'tl', 'name': ''}]   \n",
              "45463          0.0    90.0           [{'iso_639_1': 'en', 'name': 'English'}]   \n",
              "45464          0.0    87.0                                                 []   \n",
              "45465          0.0    75.0           [{'iso_639_1': 'en', 'name': 'English'}]   \n",
              "\n",
              "         status                                            tagline  \\\n",
              "0      Released                                                NaN   \n",
              "1      Released          Roll the dice and unleash the excitement!   \n",
              "2      Released  Still Yelling. Still Fighting. Still Ready for...   \n",
              "3      Released  Friends are the people who let you be yourself...   \n",
              "4      Released  Just When His World Is Back To Normal... He's ...   \n",
              "...         ...                                                ...   \n",
              "45461  Released         Rising and falling between a man and woman   \n",
              "45462  Released                                                NaN   \n",
              "45463  Released                             A deadly game of wits.   \n",
              "45464  Released                                                NaN   \n",
              "45465  Released                                                NaN   \n",
              "\n",
              "                             title  video vote_average vote_count  \n",
              "0                        Toy Story  False          7.7     5415.0  \n",
              "1                          Jumanji  False          6.9     2413.0  \n",
              "2                 Grumpier Old Men  False          6.5       92.0  \n",
              "3                Waiting to Exhale  False          6.1       34.0  \n",
              "4      Father of the Bride Part II  False          5.7      173.0  \n",
              "...                            ...    ...          ...        ...  \n",
              "45461                       Subdue  False          4.0        1.0  \n",
              "45462          Century of Birthing  False          9.0        3.0  \n",
              "45463                     Betrayal  False          3.8        6.0  \n",
              "45464             Satan Triumphant  False          0.0        0.0  \n",
              "45465                     Queerama  False          0.0        0.0  \n",
              "\n",
              "[45466 rows x 24 columns]"
            ],
            "text/html": [
              "\n",
              "  <div id=\"df-4e759e53-8c10-48f2-b1fb-fee3d8ee3bd6\">\n",
              "    <div class=\"colab-df-container\">\n",
              "      <div>\n",
              "<style scoped>\n",
              "    .dataframe tbody tr th:only-of-type {\n",
              "        vertical-align: middle;\n",
              "    }\n",
              "\n",
              "    .dataframe tbody tr th {\n",
              "        vertical-align: top;\n",
              "    }\n",
              "\n",
              "    .dataframe thead th {\n",
              "        text-align: right;\n",
              "    }\n",
              "</style>\n",
              "<table border=\"1\" class=\"dataframe\">\n",
              "  <thead>\n",
              "    <tr style=\"text-align: right;\">\n",
              "      <th></th>\n",
              "      <th>adult</th>\n",
              "      <th>belongs_to_collection</th>\n",
              "      <th>budget</th>\n",
              "      <th>genres</th>\n",
              "      <th>homepage</th>\n",
              "      <th>id</th>\n",
              "      <th>imdb_id</th>\n",
              "      <th>original_language</th>\n",
              "      <th>original_title</th>\n",
              "      <th>overview</th>\n",
              "      <th>...</th>\n",
              "      <th>release_date</th>\n",
              "      <th>revenue</th>\n",
              "      <th>runtime</th>\n",
              "      <th>spoken_languages</th>\n",
              "      <th>status</th>\n",
              "      <th>tagline</th>\n",
              "      <th>title</th>\n",
              "      <th>video</th>\n",
              "      <th>vote_average</th>\n",
              "      <th>vote_count</th>\n",
              "    </tr>\n",
              "  </thead>\n",
              "  <tbody>\n",
              "    <tr>\n",
              "      <th>0</th>\n",
              "      <td>False</td>\n",
              "      <td>{'id': 10194, 'name': 'Toy Story Collection', ...</td>\n",
              "      <td>30000000</td>\n",
              "      <td>[{'id': 16, 'name': 'Animation'}, {'id': 35, '...</td>\n",
              "      <td>http://toystory.disney.com/toy-story</td>\n",
              "      <td>862</td>\n",
              "      <td>tt0114709</td>\n",
              "      <td>en</td>\n",
              "      <td>Toy Story</td>\n",
              "      <td>Led by Woody, Andy's toys live happily in his ...</td>\n",
              "      <td>...</td>\n",
              "      <td>1995-10-30</td>\n",
              "      <td>373554033.0</td>\n",
              "      <td>81.0</td>\n",
              "      <td>[{'iso_639_1': 'en', 'name': 'English'}]</td>\n",
              "      <td>Released</td>\n",
              "      <td>NaN</td>\n",
              "      <td>Toy Story</td>\n",
              "      <td>False</td>\n",
              "      <td>7.7</td>\n",
              "      <td>5415.0</td>\n",
              "    </tr>\n",
              "    <tr>\n",
              "      <th>1</th>\n",
              "      <td>False</td>\n",
              "      <td>NaN</td>\n",
              "      <td>65000000</td>\n",
              "      <td>[{'id': 12, 'name': 'Adventure'}, {'id': 14, '...</td>\n",
              "      <td>NaN</td>\n",
              "      <td>8844</td>\n",
              "      <td>tt0113497</td>\n",
              "      <td>en</td>\n",
              "      <td>Jumanji</td>\n",
              "      <td>When siblings Judy and Peter discover an encha...</td>\n",
              "      <td>...</td>\n",
              "      <td>1995-12-15</td>\n",
              "      <td>262797249.0</td>\n",
              "      <td>104.0</td>\n",
              "      <td>[{'iso_639_1': 'en', 'name': 'English'}, {'iso...</td>\n",
              "      <td>Released</td>\n",
              "      <td>Roll the dice and unleash the excitement!</td>\n",
              "      <td>Jumanji</td>\n",
              "      <td>False</td>\n",
              "      <td>6.9</td>\n",
              "      <td>2413.0</td>\n",
              "    </tr>\n",
              "    <tr>\n",
              "      <th>2</th>\n",
              "      <td>False</td>\n",
              "      <td>{'id': 119050, 'name': 'Grumpy Old Men Collect...</td>\n",
              "      <td>0</td>\n",
              "      <td>[{'id': 10749, 'name': 'Romance'}, {'id': 35, ...</td>\n",
              "      <td>NaN</td>\n",
              "      <td>15602</td>\n",
              "      <td>tt0113228</td>\n",
              "      <td>en</td>\n",
              "      <td>Grumpier Old Men</td>\n",
              "      <td>A family wedding reignites the ancient feud be...</td>\n",
              "      <td>...</td>\n",
              "      <td>1995-12-22</td>\n",
              "      <td>0.0</td>\n",
              "      <td>101.0</td>\n",
              "      <td>[{'iso_639_1': 'en', 'name': 'English'}]</td>\n",
              "      <td>Released</td>\n",
              "      <td>Still Yelling. Still Fighting. Still Ready for...</td>\n",
              "      <td>Grumpier Old Men</td>\n",
              "      <td>False</td>\n",
              "      <td>6.5</td>\n",
              "      <td>92.0</td>\n",
              "    </tr>\n",
              "    <tr>\n",
              "      <th>3</th>\n",
              "      <td>False</td>\n",
              "      <td>NaN</td>\n",
              "      <td>16000000</td>\n",
              "      <td>[{'id': 35, 'name': 'Comedy'}, {'id': 18, 'nam...</td>\n",
              "      <td>NaN</td>\n",
              "      <td>31357</td>\n",
              "      <td>tt0114885</td>\n",
              "      <td>en</td>\n",
              "      <td>Waiting to Exhale</td>\n",
              "      <td>Cheated on, mistreated and stepped on, the wom...</td>\n",
              "      <td>...</td>\n",
              "      <td>1995-12-22</td>\n",
              "      <td>81452156.0</td>\n",
              "      <td>127.0</td>\n",
              "      <td>[{'iso_639_1': 'en', 'name': 'English'}]</td>\n",
              "      <td>Released</td>\n",
              "      <td>Friends are the people who let you be yourself...</td>\n",
              "      <td>Waiting to Exhale</td>\n",
              "      <td>False</td>\n",
              "      <td>6.1</td>\n",
              "      <td>34.0</td>\n",
              "    </tr>\n",
              "    <tr>\n",
              "      <th>4</th>\n",
              "      <td>False</td>\n",
              "      <td>{'id': 96871, 'name': 'Father of the Bride Col...</td>\n",
              "      <td>0</td>\n",
              "      <td>[{'id': 35, 'name': 'Comedy'}]</td>\n",
              "      <td>NaN</td>\n",
              "      <td>11862</td>\n",
              "      <td>tt0113041</td>\n",
              "      <td>en</td>\n",
              "      <td>Father of the Bride Part II</td>\n",
              "      <td>Just when George Banks has recovered from his ...</td>\n",
              "      <td>...</td>\n",
              "      <td>1995-02-10</td>\n",
              "      <td>76578911.0</td>\n",
              "      <td>106.0</td>\n",
              "      <td>[{'iso_639_1': 'en', 'name': 'English'}]</td>\n",
              "      <td>Released</td>\n",
              "      <td>Just When His World Is Back To Normal... He's ...</td>\n",
              "      <td>Father of the Bride Part II</td>\n",
              "      <td>False</td>\n",
              "      <td>5.7</td>\n",
              "      <td>173.0</td>\n",
              "    </tr>\n",
              "    <tr>\n",
              "      <th>...</th>\n",
              "      <td>...</td>\n",
              "      <td>...</td>\n",
              "      <td>...</td>\n",
              "      <td>...</td>\n",
              "      <td>...</td>\n",
              "      <td>...</td>\n",
              "      <td>...</td>\n",
              "      <td>...</td>\n",
              "      <td>...</td>\n",
              "      <td>...</td>\n",
              "      <td>...</td>\n",
              "      <td>...</td>\n",
              "      <td>...</td>\n",
              "      <td>...</td>\n",
              "      <td>...</td>\n",
              "      <td>...</td>\n",
              "      <td>...</td>\n",
              "      <td>...</td>\n",
              "      <td>...</td>\n",
              "      <td>...</td>\n",
              "      <td>...</td>\n",
              "    </tr>\n",
              "    <tr>\n",
              "      <th>45461</th>\n",
              "      <td>False</td>\n",
              "      <td>NaN</td>\n",
              "      <td>0</td>\n",
              "      <td>[{'id': 18, 'name': 'Drama'}, {'id': 10751, 'n...</td>\n",
              "      <td>http://www.imdb.com/title/tt6209470/</td>\n",
              "      <td>439050</td>\n",
              "      <td>tt6209470</td>\n",
              "      <td>fa</td>\n",
              "      <td>رگ خواب</td>\n",
              "      <td>Rising and falling between a man and woman.</td>\n",
              "      <td>...</td>\n",
              "      <td>NaN</td>\n",
              "      <td>0.0</td>\n",
              "      <td>90.0</td>\n",
              "      <td>[{'iso_639_1': 'fa', 'name': 'فارسی'}]</td>\n",
              "      <td>Released</td>\n",
              "      <td>Rising and falling between a man and woman</td>\n",
              "      <td>Subdue</td>\n",
              "      <td>False</td>\n",
              "      <td>4.0</td>\n",
              "      <td>1.0</td>\n",
              "    </tr>\n",
              "    <tr>\n",
              "      <th>45462</th>\n",
              "      <td>False</td>\n",
              "      <td>NaN</td>\n",
              "      <td>0</td>\n",
              "      <td>[{'id': 18, 'name': 'Drama'}]</td>\n",
              "      <td>NaN</td>\n",
              "      <td>111109</td>\n",
              "      <td>tt2028550</td>\n",
              "      <td>tl</td>\n",
              "      <td>Siglo ng Pagluluwal</td>\n",
              "      <td>An artist struggles to finish his work while a...</td>\n",
              "      <td>...</td>\n",
              "      <td>2011-11-17</td>\n",
              "      <td>0.0</td>\n",
              "      <td>360.0</td>\n",
              "      <td>[{'iso_639_1': 'tl', 'name': ''}]</td>\n",
              "      <td>Released</td>\n",
              "      <td>NaN</td>\n",
              "      <td>Century of Birthing</td>\n",
              "      <td>False</td>\n",
              "      <td>9.0</td>\n",
              "      <td>3.0</td>\n",
              "    </tr>\n",
              "    <tr>\n",
              "      <th>45463</th>\n",
              "      <td>False</td>\n",
              "      <td>NaN</td>\n",
              "      <td>0</td>\n",
              "      <td>[{'id': 28, 'name': 'Action'}, {'id': 18, 'nam...</td>\n",
              "      <td>NaN</td>\n",
              "      <td>67758</td>\n",
              "      <td>tt0303758</td>\n",
              "      <td>en</td>\n",
              "      <td>Betrayal</td>\n",
              "      <td>When one of her hits goes wrong, a professiona...</td>\n",
              "      <td>...</td>\n",
              "      <td>2003-08-01</td>\n",
              "      <td>0.0</td>\n",
              "      <td>90.0</td>\n",
              "      <td>[{'iso_639_1': 'en', 'name': 'English'}]</td>\n",
              "      <td>Released</td>\n",
              "      <td>A deadly game of wits.</td>\n",
              "      <td>Betrayal</td>\n",
              "      <td>False</td>\n",
              "      <td>3.8</td>\n",
              "      <td>6.0</td>\n",
              "    </tr>\n",
              "    <tr>\n",
              "      <th>45464</th>\n",
              "      <td>False</td>\n",
              "      <td>NaN</td>\n",
              "      <td>0</td>\n",
              "      <td>[]</td>\n",
              "      <td>NaN</td>\n",
              "      <td>227506</td>\n",
              "      <td>tt0008536</td>\n",
              "      <td>en</td>\n",
              "      <td>Satana likuyushchiy</td>\n",
              "      <td>In a small town live two brothers, one a minis...</td>\n",
              "      <td>...</td>\n",
              "      <td>1917-10-21</td>\n",
              "      <td>0.0</td>\n",
              "      <td>87.0</td>\n",
              "      <td>[]</td>\n",
              "      <td>Released</td>\n",
              "      <td>NaN</td>\n",
              "      <td>Satan Triumphant</td>\n",
              "      <td>False</td>\n",
              "      <td>0.0</td>\n",
              "      <td>0.0</td>\n",
              "    </tr>\n",
              "    <tr>\n",
              "      <th>45465</th>\n",
              "      <td>False</td>\n",
              "      <td>NaN</td>\n",
              "      <td>0</td>\n",
              "      <td>[]</td>\n",
              "      <td>NaN</td>\n",
              "      <td>461257</td>\n",
              "      <td>tt6980792</td>\n",
              "      <td>en</td>\n",
              "      <td>Queerama</td>\n",
              "      <td>50 years after decriminalisation of homosexual...</td>\n",
              "      <td>...</td>\n",
              "      <td>2017-06-09</td>\n",
              "      <td>0.0</td>\n",
              "      <td>75.0</td>\n",
              "      <td>[{'iso_639_1': 'en', 'name': 'English'}]</td>\n",
              "      <td>Released</td>\n",
              "      <td>NaN</td>\n",
              "      <td>Queerama</td>\n",
              "      <td>False</td>\n",
              "      <td>0.0</td>\n",
              "      <td>0.0</td>\n",
              "    </tr>\n",
              "  </tbody>\n",
              "</table>\n",
              "<p>45466 rows × 24 columns</p>\n",
              "</div>\n",
              "      <button class=\"colab-df-convert\" onclick=\"convertToInteractive('df-4e759e53-8c10-48f2-b1fb-fee3d8ee3bd6')\"\n",
              "              title=\"Convert this dataframe to an interactive table.\"\n",
              "              style=\"display:none;\">\n",
              "        \n",
              "  <svg xmlns=\"http://www.w3.org/2000/svg\" height=\"24px\"viewBox=\"0 0 24 24\"\n",
              "       width=\"24px\">\n",
              "    <path d=\"M0 0h24v24H0V0z\" fill=\"none\"/>\n",
              "    <path d=\"M18.56 5.44l.94 2.06.94-2.06 2.06-.94-2.06-.94-.94-2.06-.94 2.06-2.06.94zm-11 1L8.5 8.5l.94-2.06 2.06-.94-2.06-.94L8.5 2.5l-.94 2.06-2.06.94zm10 10l.94 2.06.94-2.06 2.06-.94-2.06-.94-.94-2.06-.94 2.06-2.06.94z\"/><path d=\"M17.41 7.96l-1.37-1.37c-.4-.4-.92-.59-1.43-.59-.52 0-1.04.2-1.43.59L10.3 9.45l-7.72 7.72c-.78.78-.78 2.05 0 2.83L4 21.41c.39.39.9.59 1.41.59.51 0 1.02-.2 1.41-.59l7.78-7.78 2.81-2.81c.8-.78.8-2.07 0-2.86zM5.41 20L4 18.59l7.72-7.72 1.47 1.35L5.41 20z\"/>\n",
              "  </svg>\n",
              "      </button>\n",
              "      \n",
              "  <style>\n",
              "    .colab-df-container {\n",
              "      display:flex;\n",
              "      flex-wrap:wrap;\n",
              "      gap: 12px;\n",
              "    }\n",
              "\n",
              "    .colab-df-convert {\n",
              "      background-color: #E8F0FE;\n",
              "      border: none;\n",
              "      border-radius: 50%;\n",
              "      cursor: pointer;\n",
              "      display: none;\n",
              "      fill: #1967D2;\n",
              "      height: 32px;\n",
              "      padding: 0 0 0 0;\n",
              "      width: 32px;\n",
              "    }\n",
              "\n",
              "    .colab-df-convert:hover {\n",
              "      background-color: #E2EBFA;\n",
              "      box-shadow: 0px 1px 2px rgba(60, 64, 67, 0.3), 0px 1px 3px 1px rgba(60, 64, 67, 0.15);\n",
              "      fill: #174EA6;\n",
              "    }\n",
              "\n",
              "    [theme=dark] .colab-df-convert {\n",
              "      background-color: #3B4455;\n",
              "      fill: #D2E3FC;\n",
              "    }\n",
              "\n",
              "    [theme=dark] .colab-df-convert:hover {\n",
              "      background-color: #434B5C;\n",
              "      box-shadow: 0px 1px 3px 1px rgba(0, 0, 0, 0.15);\n",
              "      filter: drop-shadow(0px 1px 2px rgba(0, 0, 0, 0.3));\n",
              "      fill: #FFFFFF;\n",
              "    }\n",
              "  </style>\n",
              "\n",
              "      <script>\n",
              "        const buttonEl =\n",
              "          document.querySelector('#df-4e759e53-8c10-48f2-b1fb-fee3d8ee3bd6 button.colab-df-convert');\n",
              "        buttonEl.style.display =\n",
              "          google.colab.kernel.accessAllowed ? 'block' : 'none';\n",
              "\n",
              "        async function convertToInteractive(key) {\n",
              "          const element = document.querySelector('#df-4e759e53-8c10-48f2-b1fb-fee3d8ee3bd6');\n",
              "          const dataTable =\n",
              "            await google.colab.kernel.invokeFunction('convertToInteractive',\n",
              "                                                     [key], {});\n",
              "          if (!dataTable) return;\n",
              "\n",
              "          const docLinkHtml = 'Like what you see? Visit the ' +\n",
              "            '<a target=\"_blank\" href=https://colab.research.google.com/notebooks/data_table.ipynb>data table notebook</a>'\n",
              "            + ' to learn more about interactive tables.';\n",
              "          element.innerHTML = '';\n",
              "          dataTable['output_type'] = 'display_data';\n",
              "          await google.colab.output.renderOutput(dataTable, element);\n",
              "          const docLink = document.createElement('div');\n",
              "          docLink.innerHTML = docLinkHtml;\n",
              "          element.appendChild(docLink);\n",
              "        }\n",
              "      </script>\n",
              "    </div>\n",
              "  </div>\n",
              "  "
            ]
          },
          "metadata": {},
          "execution_count": 2
        }
      ]
    },
    {
      "cell_type": "markdown",
      "source": [
        "Dari data tersebut kita dapat melihat mengenai penilaian popularitas dari sebuah film sebanyak 45466 data. Kita lakukan pengecekan tipe data dari setiap kolom."
      ],
      "metadata": {
        "id": "TxHH6J1uUn15"
      }
    },
    {
      "cell_type": "code",
      "source": [
        "df.dtypes"
      ],
      "metadata": {
        "colab": {
          "base_uri": "https://localhost:8080/"
        },
        "id": "JLKMZ-FPspXd",
        "outputId": "d4cd1878-450e-4d38-fb54-b6f63ca03141"
      },
      "execution_count": null,
      "outputs": [
        {
          "output_type": "execute_result",
          "data": {
            "text/plain": [
              "adult                     object\n",
              "belongs_to_collection     object\n",
              "budget                    object\n",
              "genres                    object\n",
              "homepage                  object\n",
              "id                        object\n",
              "imdb_id                   object\n",
              "original_language         object\n",
              "original_title            object\n",
              "overview                  object\n",
              "popularity                object\n",
              "poster_path               object\n",
              "production_companies      object\n",
              "production_countries      object\n",
              "release_date              object\n",
              "revenue                  float64\n",
              "runtime                  float64\n",
              "spoken_languages          object\n",
              "status                    object\n",
              "tagline                   object\n",
              "title                     object\n",
              "video                     object\n",
              "vote_average             float64\n",
              "vote_count               float64\n",
              "dtype: object"
            ]
          },
          "metadata": {},
          "execution_count": 3
        }
      ]
    },
    {
      "cell_type": "markdown",
      "source": [
        "Pada dataset tersebut, masih banyak sekali yang kosong. Oleh karena itu, bersihkan terlebih dahulu data-datanya. Agar pengolahan datanya dapat berjalan dengan lancar."
      ],
      "metadata": {
        "id": "B62OKhmLVnCi"
      }
    },
    {
      "cell_type": "code",
      "source": [
        "df.dropna(inplace=True)"
      ],
      "metadata": {
        "id": "TGEdK3Nsny9N"
      },
      "execution_count": null,
      "outputs": []
    },
    {
      "cell_type": "code",
      "source": [
        "df"
      ],
      "metadata": {
        "colab": {
          "base_uri": "https://localhost:8080/",
          "height": 1000
        },
        "id": "SgUspuWLWNiM",
        "outputId": "24e71898-ec93-4e79-a5a3-a5e7fa28d7a2"
      },
      "execution_count": null,
      "outputs": [
        {
          "output_type": "execute_result",
          "data": {
            "text/plain": [
              "       adult                              belongs_to_collection     budget  \\\n",
              "9      False  {'id': 645, 'name': 'James Bond Collection', '...   58000000   \n",
              "68     False  {'id': 43563, 'name': 'Friday Collection', 'po...    3500000   \n",
              "69     False  {'id': 10924, 'name': 'From Dusk Till Dawn Col...   19000000   \n",
              "153    False  {'id': 439053, 'name': 'Brooklyn Cigar Store C...    2000000   \n",
              "178    False  {'id': 286162, 'name': 'Power Rangers Collecti...   15000000   \n",
              "...      ...                                                ...        ...   \n",
              "44274  False  {'id': 173710, 'name': 'Planet of the Apes (Re...  152000000   \n",
              "44674  False  {'id': 476961, 'name': 'Goon Collection', 'pos...          0   \n",
              "44821  False  {'id': 34055, 'name': 'Pokémon Collection', 'p...   16000000   \n",
              "44842  False  {'id': 8650, 'name': 'Transformers Collection'...  260000000   \n",
              "45029  False  {'id': 417491, 'name': 'Bon Cop Bad Cop Collec...          0   \n",
              "\n",
              "                                                  genres  \\\n",
              "9      [{'id': 12, 'name': 'Adventure'}, {'id': 28, '...   \n",
              "68                        [{'id': 35, 'name': 'Comedy'}]   \n",
              "69     [{'id': 27, 'name': 'Horror'}, {'id': 28, 'nam...   \n",
              "153                       [{'id': 35, 'name': 'Comedy'}]   \n",
              "178    [{'id': 28, 'name': 'Action'}, {'id': 12, 'nam...   \n",
              "...                                                  ...   \n",
              "44274  [{'id': 18, 'name': 'Drama'}, {'id': 878, 'nam...   \n",
              "44674                     [{'id': 35, 'name': 'Comedy'}]   \n",
              "44821  [{'id': 12, 'name': 'Adventure'}, {'id': 14, '...   \n",
              "44842  [{'id': 28, 'name': 'Action'}, {'id': 878, 'na...   \n",
              "45029  [{'id': 80, 'name': 'Crime'}, {'id': 35, 'name...   \n",
              "\n",
              "                                                homepage      id    imdb_id  \\\n",
              "9           http://www.mgm.com/view/movie/757/Goldeneye/     710  tt0113189   \n",
              "68         http://www.newline.com/properties/friday.html   10634  tt0113118   \n",
              "69     http://www.miramax.com/movie/from-dusk-till-dawn/     755  tt0116367   \n",
              "153           http://miramax.com/movie/blue-in-the-face/    5894  tt0112541   \n",
              "178                         http://www.powerrangers.com/    9070  tt0113820   \n",
              "...                                                  ...     ...        ...   \n",
              "44274  http://www.foxmovies.com/movies/war-for-the-pl...  281338  tt3450958   \n",
              "44674         https://www.facebook.com/GoonFilm/?fref=ts  336890  tt2417712   \n",
              "44821                  http://movies.warnerbros.com/pk3/   10991  tt0235679   \n",
              "44842                  http://www.transformersmovie.com/  335988  tt3371366   \n",
              "45029                                http://bcbc2.ca/en/  417489  tt4738174   \n",
              "\n",
              "      original_language                           original_title  \\\n",
              "9                    en                                GoldenEye   \n",
              "68                   en                                   Friday   \n",
              "69                   en                      From Dusk Till Dawn   \n",
              "153                  en                         Blue in the Face   \n",
              "178                  en  Mighty Morphin Power Rangers: The Movie   \n",
              "...                 ...                                      ...   \n",
              "44274                en           War for the Planet of the Apes   \n",
              "44674                en              Goon: Last of the Enforcers   \n",
              "44821                ja                     Pokémon 3: The Movie   \n",
              "44842                en            Transformers: The Last Knight   \n",
              "45029                fr                        Bon Cop Bad Cop 2   \n",
              "\n",
              "                                                overview  ... release_date  \\\n",
              "9      James Bond must unmask the mysterious head of ...  ...   1995-11-16   \n",
              "68     Craig and Smokey are two guys in Los Angeles h...  ...   1995-04-26   \n",
              "69     Seth Gecko and his younger brother Richard are...  ...   1996-01-19   \n",
              "153    Auggie runs a small tobacco shop in Brooklyn, ...  ...   1995-09-15   \n",
              "178    Power up with six incredible teens who out-man...  ...   1995-06-30   \n",
              "...                                                  ...  ...          ...   \n",
              "44274  Caesar and his apes are forced into a deadly c...  ...   2017-07-11   \n",
              "44674  During a pro lockout, Doug \"The Thug\" Glatt is...  ...   2017-03-17   \n",
              "44821  When Molly Hale's sadness of her father's disa...  ...   2000-07-08   \n",
              "44842  Autobots and Decepticons are at war, with huma...  ...   2017-06-21   \n",
              "45029  Ward and Bouchard must face an important car t...  ...   2017-05-12   \n",
              "\n",
              "           revenue runtime                                   spoken_languages  \\\n",
              "9      352194034.0   130.0  [{'iso_639_1': 'en', 'name': 'English'}, {'iso...   \n",
              "68      28215918.0    91.0           [{'iso_639_1': 'en', 'name': 'English'}]   \n",
              "69      25836616.0   108.0  [{'iso_639_1': 'en', 'name': 'English'}, {'iso...   \n",
              "153      1275000.0    83.0           [{'iso_639_1': 'en', 'name': 'English'}]   \n",
              "178     66000000.0    92.0           [{'iso_639_1': 'en', 'name': 'English'}]   \n",
              "...            ...     ...                                                ...   \n",
              "44274  369907963.0   140.0           [{'iso_639_1': 'en', 'name': 'English'}]   \n",
              "44674          0.0   101.0           [{'iso_639_1': 'en', 'name': 'English'}]   \n",
              "44821   68411275.0    93.0           [{'iso_639_1': 'en', 'name': 'English'}]   \n",
              "44842  604942143.0   149.0           [{'iso_639_1': 'en', 'name': 'English'}]   \n",
              "45029          0.0     0.0  [{'iso_639_1': 'en', 'name': 'English'}, {'iso...   \n",
              "\n",
              "         status                                            tagline  \\\n",
              "9      Released               No limits. No fears. No substitutes.   \n",
              "68     Released  A lot can go down between thursday and saturda...   \n",
              "69     Released  One night is all that stands between them and ...   \n",
              "153    Released                    Welcome to the planet Brooklyn.   \n",
              "178    Released                                   The Power Is On!   \n",
              "...         ...                                                ...   \n",
              "44274  Released           For freedom. For family. For the planet.   \n",
              "44674  Released                                      Glatt's Back!   \n",
              "44821  Released                      Pokémon: Spell of the Unknown   \n",
              "44842  Released         For one world to live, the other must die.   \n",
              "45029  Released            It's okay America, we've got your back.   \n",
              "\n",
              "                                         title  video vote_average vote_count  \n",
              "9                                    GoldenEye  False          6.6     1194.0  \n",
              "68                                      Friday  False          7.0      513.0  \n",
              "69                         From Dusk Till Dawn  False          6.9     1644.0  \n",
              "153                           Blue in the Face  False          6.8       28.0  \n",
              "178    Mighty Morphin Power Rangers: The Movie  False          5.2      153.0  \n",
              "...                                        ...    ...          ...        ...  \n",
              "44274           War for the Planet of the Apes  False          6.7     1675.0  \n",
              "44674              Goon: Last of the Enforcers  False          6.0       35.0  \n",
              "44821            Pokémon: Spell of the Unknown  False          6.0      144.0  \n",
              "44842            Transformers: The Last Knight  False          6.2     1440.0  \n",
              "45029                        Bon Cop Bad Cop 2  False          6.8        5.0  \n",
              "\n",
              "[693 rows x 24 columns]"
            ],
            "text/html": [
              "\n",
              "  <div id=\"df-ca7dc66f-ff27-4584-9e16-88e62fb1281d\">\n",
              "    <div class=\"colab-df-container\">\n",
              "      <div>\n",
              "<style scoped>\n",
              "    .dataframe tbody tr th:only-of-type {\n",
              "        vertical-align: middle;\n",
              "    }\n",
              "\n",
              "    .dataframe tbody tr th {\n",
              "        vertical-align: top;\n",
              "    }\n",
              "\n",
              "    .dataframe thead th {\n",
              "        text-align: right;\n",
              "    }\n",
              "</style>\n",
              "<table border=\"1\" class=\"dataframe\">\n",
              "  <thead>\n",
              "    <tr style=\"text-align: right;\">\n",
              "      <th></th>\n",
              "      <th>adult</th>\n",
              "      <th>belongs_to_collection</th>\n",
              "      <th>budget</th>\n",
              "      <th>genres</th>\n",
              "      <th>homepage</th>\n",
              "      <th>id</th>\n",
              "      <th>imdb_id</th>\n",
              "      <th>original_language</th>\n",
              "      <th>original_title</th>\n",
              "      <th>overview</th>\n",
              "      <th>...</th>\n",
              "      <th>release_date</th>\n",
              "      <th>revenue</th>\n",
              "      <th>runtime</th>\n",
              "      <th>spoken_languages</th>\n",
              "      <th>status</th>\n",
              "      <th>tagline</th>\n",
              "      <th>title</th>\n",
              "      <th>video</th>\n",
              "      <th>vote_average</th>\n",
              "      <th>vote_count</th>\n",
              "    </tr>\n",
              "  </thead>\n",
              "  <tbody>\n",
              "    <tr>\n",
              "      <th>9</th>\n",
              "      <td>False</td>\n",
              "      <td>{'id': 645, 'name': 'James Bond Collection', '...</td>\n",
              "      <td>58000000</td>\n",
              "      <td>[{'id': 12, 'name': 'Adventure'}, {'id': 28, '...</td>\n",
              "      <td>http://www.mgm.com/view/movie/757/Goldeneye/</td>\n",
              "      <td>710</td>\n",
              "      <td>tt0113189</td>\n",
              "      <td>en</td>\n",
              "      <td>GoldenEye</td>\n",
              "      <td>James Bond must unmask the mysterious head of ...</td>\n",
              "      <td>...</td>\n",
              "      <td>1995-11-16</td>\n",
              "      <td>352194034.0</td>\n",
              "      <td>130.0</td>\n",
              "      <td>[{'iso_639_1': 'en', 'name': 'English'}, {'iso...</td>\n",
              "      <td>Released</td>\n",
              "      <td>No limits. No fears. No substitutes.</td>\n",
              "      <td>GoldenEye</td>\n",
              "      <td>False</td>\n",
              "      <td>6.6</td>\n",
              "      <td>1194.0</td>\n",
              "    </tr>\n",
              "    <tr>\n",
              "      <th>68</th>\n",
              "      <td>False</td>\n",
              "      <td>{'id': 43563, 'name': 'Friday Collection', 'po...</td>\n",
              "      <td>3500000</td>\n",
              "      <td>[{'id': 35, 'name': 'Comedy'}]</td>\n",
              "      <td>http://www.newline.com/properties/friday.html</td>\n",
              "      <td>10634</td>\n",
              "      <td>tt0113118</td>\n",
              "      <td>en</td>\n",
              "      <td>Friday</td>\n",
              "      <td>Craig and Smokey are two guys in Los Angeles h...</td>\n",
              "      <td>...</td>\n",
              "      <td>1995-04-26</td>\n",
              "      <td>28215918.0</td>\n",
              "      <td>91.0</td>\n",
              "      <td>[{'iso_639_1': 'en', 'name': 'English'}]</td>\n",
              "      <td>Released</td>\n",
              "      <td>A lot can go down between thursday and saturda...</td>\n",
              "      <td>Friday</td>\n",
              "      <td>False</td>\n",
              "      <td>7.0</td>\n",
              "      <td>513.0</td>\n",
              "    </tr>\n",
              "    <tr>\n",
              "      <th>69</th>\n",
              "      <td>False</td>\n",
              "      <td>{'id': 10924, 'name': 'From Dusk Till Dawn Col...</td>\n",
              "      <td>19000000</td>\n",
              "      <td>[{'id': 27, 'name': 'Horror'}, {'id': 28, 'nam...</td>\n",
              "      <td>http://www.miramax.com/movie/from-dusk-till-dawn/</td>\n",
              "      <td>755</td>\n",
              "      <td>tt0116367</td>\n",
              "      <td>en</td>\n",
              "      <td>From Dusk Till Dawn</td>\n",
              "      <td>Seth Gecko and his younger brother Richard are...</td>\n",
              "      <td>...</td>\n",
              "      <td>1996-01-19</td>\n",
              "      <td>25836616.0</td>\n",
              "      <td>108.0</td>\n",
              "      <td>[{'iso_639_1': 'en', 'name': 'English'}, {'iso...</td>\n",
              "      <td>Released</td>\n",
              "      <td>One night is all that stands between them and ...</td>\n",
              "      <td>From Dusk Till Dawn</td>\n",
              "      <td>False</td>\n",
              "      <td>6.9</td>\n",
              "      <td>1644.0</td>\n",
              "    </tr>\n",
              "    <tr>\n",
              "      <th>153</th>\n",
              "      <td>False</td>\n",
              "      <td>{'id': 439053, 'name': 'Brooklyn Cigar Store C...</td>\n",
              "      <td>2000000</td>\n",
              "      <td>[{'id': 35, 'name': 'Comedy'}]</td>\n",
              "      <td>http://miramax.com/movie/blue-in-the-face/</td>\n",
              "      <td>5894</td>\n",
              "      <td>tt0112541</td>\n",
              "      <td>en</td>\n",
              "      <td>Blue in the Face</td>\n",
              "      <td>Auggie runs a small tobacco shop in Brooklyn, ...</td>\n",
              "      <td>...</td>\n",
              "      <td>1995-09-15</td>\n",
              "      <td>1275000.0</td>\n",
              "      <td>83.0</td>\n",
              "      <td>[{'iso_639_1': 'en', 'name': 'English'}]</td>\n",
              "      <td>Released</td>\n",
              "      <td>Welcome to the planet Brooklyn.</td>\n",
              "      <td>Blue in the Face</td>\n",
              "      <td>False</td>\n",
              "      <td>6.8</td>\n",
              "      <td>28.0</td>\n",
              "    </tr>\n",
              "    <tr>\n",
              "      <th>178</th>\n",
              "      <td>False</td>\n",
              "      <td>{'id': 286162, 'name': 'Power Rangers Collecti...</td>\n",
              "      <td>15000000</td>\n",
              "      <td>[{'id': 28, 'name': 'Action'}, {'id': 12, 'nam...</td>\n",
              "      <td>http://www.powerrangers.com/</td>\n",
              "      <td>9070</td>\n",
              "      <td>tt0113820</td>\n",
              "      <td>en</td>\n",
              "      <td>Mighty Morphin Power Rangers: The Movie</td>\n",
              "      <td>Power up with six incredible teens who out-man...</td>\n",
              "      <td>...</td>\n",
              "      <td>1995-06-30</td>\n",
              "      <td>66000000.0</td>\n",
              "      <td>92.0</td>\n",
              "      <td>[{'iso_639_1': 'en', 'name': 'English'}]</td>\n",
              "      <td>Released</td>\n",
              "      <td>The Power Is On!</td>\n",
              "      <td>Mighty Morphin Power Rangers: The Movie</td>\n",
              "      <td>False</td>\n",
              "      <td>5.2</td>\n",
              "      <td>153.0</td>\n",
              "    </tr>\n",
              "    <tr>\n",
              "      <th>...</th>\n",
              "      <td>...</td>\n",
              "      <td>...</td>\n",
              "      <td>...</td>\n",
              "      <td>...</td>\n",
              "      <td>...</td>\n",
              "      <td>...</td>\n",
              "      <td>...</td>\n",
              "      <td>...</td>\n",
              "      <td>...</td>\n",
              "      <td>...</td>\n",
              "      <td>...</td>\n",
              "      <td>...</td>\n",
              "      <td>...</td>\n",
              "      <td>...</td>\n",
              "      <td>...</td>\n",
              "      <td>...</td>\n",
              "      <td>...</td>\n",
              "      <td>...</td>\n",
              "      <td>...</td>\n",
              "      <td>...</td>\n",
              "      <td>...</td>\n",
              "    </tr>\n",
              "    <tr>\n",
              "      <th>44274</th>\n",
              "      <td>False</td>\n",
              "      <td>{'id': 173710, 'name': 'Planet of the Apes (Re...</td>\n",
              "      <td>152000000</td>\n",
              "      <td>[{'id': 18, 'name': 'Drama'}, {'id': 878, 'nam...</td>\n",
              "      <td>http://www.foxmovies.com/movies/war-for-the-pl...</td>\n",
              "      <td>281338</td>\n",
              "      <td>tt3450958</td>\n",
              "      <td>en</td>\n",
              "      <td>War for the Planet of the Apes</td>\n",
              "      <td>Caesar and his apes are forced into a deadly c...</td>\n",
              "      <td>...</td>\n",
              "      <td>2017-07-11</td>\n",
              "      <td>369907963.0</td>\n",
              "      <td>140.0</td>\n",
              "      <td>[{'iso_639_1': 'en', 'name': 'English'}]</td>\n",
              "      <td>Released</td>\n",
              "      <td>For freedom. For family. For the planet.</td>\n",
              "      <td>War for the Planet of the Apes</td>\n",
              "      <td>False</td>\n",
              "      <td>6.7</td>\n",
              "      <td>1675.0</td>\n",
              "    </tr>\n",
              "    <tr>\n",
              "      <th>44674</th>\n",
              "      <td>False</td>\n",
              "      <td>{'id': 476961, 'name': 'Goon Collection', 'pos...</td>\n",
              "      <td>0</td>\n",
              "      <td>[{'id': 35, 'name': 'Comedy'}]</td>\n",
              "      <td>https://www.facebook.com/GoonFilm/?fref=ts</td>\n",
              "      <td>336890</td>\n",
              "      <td>tt2417712</td>\n",
              "      <td>en</td>\n",
              "      <td>Goon: Last of the Enforcers</td>\n",
              "      <td>During a pro lockout, Doug \"The Thug\" Glatt is...</td>\n",
              "      <td>...</td>\n",
              "      <td>2017-03-17</td>\n",
              "      <td>0.0</td>\n",
              "      <td>101.0</td>\n",
              "      <td>[{'iso_639_1': 'en', 'name': 'English'}]</td>\n",
              "      <td>Released</td>\n",
              "      <td>Glatt's Back!</td>\n",
              "      <td>Goon: Last of the Enforcers</td>\n",
              "      <td>False</td>\n",
              "      <td>6.0</td>\n",
              "      <td>35.0</td>\n",
              "    </tr>\n",
              "    <tr>\n",
              "      <th>44821</th>\n",
              "      <td>False</td>\n",
              "      <td>{'id': 34055, 'name': 'Pokémon Collection', 'p...</td>\n",
              "      <td>16000000</td>\n",
              "      <td>[{'id': 12, 'name': 'Adventure'}, {'id': 14, '...</td>\n",
              "      <td>http://movies.warnerbros.com/pk3/</td>\n",
              "      <td>10991</td>\n",
              "      <td>tt0235679</td>\n",
              "      <td>ja</td>\n",
              "      <td>Pokémon 3: The Movie</td>\n",
              "      <td>When Molly Hale's sadness of her father's disa...</td>\n",
              "      <td>...</td>\n",
              "      <td>2000-07-08</td>\n",
              "      <td>68411275.0</td>\n",
              "      <td>93.0</td>\n",
              "      <td>[{'iso_639_1': 'en', 'name': 'English'}]</td>\n",
              "      <td>Released</td>\n",
              "      <td>Pokémon: Spell of the Unknown</td>\n",
              "      <td>Pokémon: Spell of the Unknown</td>\n",
              "      <td>False</td>\n",
              "      <td>6.0</td>\n",
              "      <td>144.0</td>\n",
              "    </tr>\n",
              "    <tr>\n",
              "      <th>44842</th>\n",
              "      <td>False</td>\n",
              "      <td>{'id': 8650, 'name': 'Transformers Collection'...</td>\n",
              "      <td>260000000</td>\n",
              "      <td>[{'id': 28, 'name': 'Action'}, {'id': 878, 'na...</td>\n",
              "      <td>http://www.transformersmovie.com/</td>\n",
              "      <td>335988</td>\n",
              "      <td>tt3371366</td>\n",
              "      <td>en</td>\n",
              "      <td>Transformers: The Last Knight</td>\n",
              "      <td>Autobots and Decepticons are at war, with huma...</td>\n",
              "      <td>...</td>\n",
              "      <td>2017-06-21</td>\n",
              "      <td>604942143.0</td>\n",
              "      <td>149.0</td>\n",
              "      <td>[{'iso_639_1': 'en', 'name': 'English'}]</td>\n",
              "      <td>Released</td>\n",
              "      <td>For one world to live, the other must die.</td>\n",
              "      <td>Transformers: The Last Knight</td>\n",
              "      <td>False</td>\n",
              "      <td>6.2</td>\n",
              "      <td>1440.0</td>\n",
              "    </tr>\n",
              "    <tr>\n",
              "      <th>45029</th>\n",
              "      <td>False</td>\n",
              "      <td>{'id': 417491, 'name': 'Bon Cop Bad Cop Collec...</td>\n",
              "      <td>0</td>\n",
              "      <td>[{'id': 80, 'name': 'Crime'}, {'id': 35, 'name...</td>\n",
              "      <td>http://bcbc2.ca/en/</td>\n",
              "      <td>417489</td>\n",
              "      <td>tt4738174</td>\n",
              "      <td>fr</td>\n",
              "      <td>Bon Cop Bad Cop 2</td>\n",
              "      <td>Ward and Bouchard must face an important car t...</td>\n",
              "      <td>...</td>\n",
              "      <td>2017-05-12</td>\n",
              "      <td>0.0</td>\n",
              "      <td>0.0</td>\n",
              "      <td>[{'iso_639_1': 'en', 'name': 'English'}, {'iso...</td>\n",
              "      <td>Released</td>\n",
              "      <td>It's okay America, we've got your back.</td>\n",
              "      <td>Bon Cop Bad Cop 2</td>\n",
              "      <td>False</td>\n",
              "      <td>6.8</td>\n",
              "      <td>5.0</td>\n",
              "    </tr>\n",
              "  </tbody>\n",
              "</table>\n",
              "<p>693 rows × 24 columns</p>\n",
              "</div>\n",
              "      <button class=\"colab-df-convert\" onclick=\"convertToInteractive('df-ca7dc66f-ff27-4584-9e16-88e62fb1281d')\"\n",
              "              title=\"Convert this dataframe to an interactive table.\"\n",
              "              style=\"display:none;\">\n",
              "        \n",
              "  <svg xmlns=\"http://www.w3.org/2000/svg\" height=\"24px\"viewBox=\"0 0 24 24\"\n",
              "       width=\"24px\">\n",
              "    <path d=\"M0 0h24v24H0V0z\" fill=\"none\"/>\n",
              "    <path d=\"M18.56 5.44l.94 2.06.94-2.06 2.06-.94-2.06-.94-.94-2.06-.94 2.06-2.06.94zm-11 1L8.5 8.5l.94-2.06 2.06-.94-2.06-.94L8.5 2.5l-.94 2.06-2.06.94zm10 10l.94 2.06.94-2.06 2.06-.94-2.06-.94-.94-2.06-.94 2.06-2.06.94z\"/><path d=\"M17.41 7.96l-1.37-1.37c-.4-.4-.92-.59-1.43-.59-.52 0-1.04.2-1.43.59L10.3 9.45l-7.72 7.72c-.78.78-.78 2.05 0 2.83L4 21.41c.39.39.9.59 1.41.59.51 0 1.02-.2 1.41-.59l7.78-7.78 2.81-2.81c.8-.78.8-2.07 0-2.86zM5.41 20L4 18.59l7.72-7.72 1.47 1.35L5.41 20z\"/>\n",
              "  </svg>\n",
              "      </button>\n",
              "      \n",
              "  <style>\n",
              "    .colab-df-container {\n",
              "      display:flex;\n",
              "      flex-wrap:wrap;\n",
              "      gap: 12px;\n",
              "    }\n",
              "\n",
              "    .colab-df-convert {\n",
              "      background-color: #E8F0FE;\n",
              "      border: none;\n",
              "      border-radius: 50%;\n",
              "      cursor: pointer;\n",
              "      display: none;\n",
              "      fill: #1967D2;\n",
              "      height: 32px;\n",
              "      padding: 0 0 0 0;\n",
              "      width: 32px;\n",
              "    }\n",
              "\n",
              "    .colab-df-convert:hover {\n",
              "      background-color: #E2EBFA;\n",
              "      box-shadow: 0px 1px 2px rgba(60, 64, 67, 0.3), 0px 1px 3px 1px rgba(60, 64, 67, 0.15);\n",
              "      fill: #174EA6;\n",
              "    }\n",
              "\n",
              "    [theme=dark] .colab-df-convert {\n",
              "      background-color: #3B4455;\n",
              "      fill: #D2E3FC;\n",
              "    }\n",
              "\n",
              "    [theme=dark] .colab-df-convert:hover {\n",
              "      background-color: #434B5C;\n",
              "      box-shadow: 0px 1px 3px 1px rgba(0, 0, 0, 0.15);\n",
              "      filter: drop-shadow(0px 1px 2px rgba(0, 0, 0, 0.3));\n",
              "      fill: #FFFFFF;\n",
              "    }\n",
              "  </style>\n",
              "\n",
              "      <script>\n",
              "        const buttonEl =\n",
              "          document.querySelector('#df-ca7dc66f-ff27-4584-9e16-88e62fb1281d button.colab-df-convert');\n",
              "        buttonEl.style.display =\n",
              "          google.colab.kernel.accessAllowed ? 'block' : 'none';\n",
              "\n",
              "        async function convertToInteractive(key) {\n",
              "          const element = document.querySelector('#df-ca7dc66f-ff27-4584-9e16-88e62fb1281d');\n",
              "          const dataTable =\n",
              "            await google.colab.kernel.invokeFunction('convertToInteractive',\n",
              "                                                     [key], {});\n",
              "          if (!dataTable) return;\n",
              "\n",
              "          const docLinkHtml = 'Like what you see? Visit the ' +\n",
              "            '<a target=\"_blank\" href=https://colab.research.google.com/notebooks/data_table.ipynb>data table notebook</a>'\n",
              "            + ' to learn more about interactive tables.';\n",
              "          element.innerHTML = '';\n",
              "          dataTable['output_type'] = 'display_data';\n",
              "          await google.colab.output.renderOutput(dataTable, element);\n",
              "          const docLink = document.createElement('div');\n",
              "          docLink.innerHTML = docLinkHtml;\n",
              "          element.appendChild(docLink);\n",
              "        }\n",
              "      </script>\n",
              "    </div>\n",
              "  </div>\n",
              "  "
            ]
          },
          "metadata": {},
          "execution_count": 5
        }
      ]
    },
    {
      "cell_type": "markdown",
      "source": [
        "# **Soal 2**"
      ],
      "metadata": {
        "id": "_fBvaFabX1wr"
      }
    },
    {
      "cell_type": "markdown",
      "source": [
        "Lakukan pemeriksaan korelasi terlebih dahulu. Kita melakukan penyetelan untuk menggambarkan heatmapnya."
      ],
      "metadata": {
        "id": "X1JeJnq3YMwi"
      }
    },
    {
      "cell_type": "code",
      "source": [
        "sns.set(style=\"ticks\", color_codes=True)\n",
        "plt.rcParams['figure.figsize'] = (5,5)\n",
        "plt.rcParams['figure.dpi'] = 100"
      ],
      "metadata": {
        "id": "dhhA3wmPxacJ"
      },
      "execution_count": null,
      "outputs": []
    },
    {
      "cell_type": "markdown",
      "source": [
        "Pada heatmap, kita mengkorelasinya menggunakan method spearman."
      ],
      "metadata": {
        "id": "l-RFv_2zvKSn"
      }
    },
    {
      "cell_type": "code",
      "source": [
        "sns.heatmap(df.corr('spearman'), square=True, cmap='magma',annot=True, annot_kws={\"fontsize\":6})"
      ],
      "metadata": {
        "colab": {
          "base_uri": "https://localhost:8080/",
          "height": 522
        },
        "id": "JVF5dlCAszPF",
        "outputId": "642e005b-b9b1-44be-db01-fe71e9bcf105"
      },
      "execution_count": null,
      "outputs": [
        {
          "output_type": "execute_result",
          "data": {
            "text/plain": [
              "<matplotlib.axes._subplots.AxesSubplot at 0x7f8ab10ea390>"
            ]
          },
          "metadata": {},
          "execution_count": 7
        },
        {
          "output_type": "display_data",
          "data": {
            "text/plain": [
              "<Figure size 500x500 with 2 Axes>"
            ],
            "image/png": "[encoded data removed]"
          },
          "metadata": {}
        }
      ]
    },
    {
      "cell_type": "markdown",
      "source": [
        "Ketika melakukan pemeriksaan korelasi dari dataset tersebut. Hanya terdapat 4 kolom/variabel saja. Karena yang merupakan tipe data angka(float) hanya: revenue, runtime, vote_average, dan vote_count. "
      ],
      "metadata": {
        "id": "8VLjXfCfYvNY"
      }
    },
    {
      "cell_type": "code",
      "source": [
        "df.info()"
      ],
      "metadata": {
        "colab": {
          "base_uri": "https://localhost:8080/"
        },
        "id": "-uf55EJfaUDl",
        "outputId": "49bb8b59-bd61-4aaa-bff5-fabbc058370b"
      },
      "execution_count": null,
      "outputs": [
        {
          "output_type": "stream",
          "name": "stdout",
          "text": [
            "<class 'pandas.core.frame.DataFrame'>\n",
            "Int64Index: 693 entries, 9 to 45029\n",
            "Data columns (total 24 columns):\n",
            " #   Column                 Non-Null Count  Dtype  \n",
            "---  ------                 --------------  -----  \n",
            " 0   adult                  693 non-null    object \n",
            " 1   belongs_to_collection  693 non-null    object \n",
            " 2   budget                 693 non-null    object \n",
            " 3   genres                 693 non-null    object \n",
            " 4   homepage               693 non-null    object \n",
            " 5   id                     693 non-null    object \n",
            " 6   imdb_id                693 non-null    object \n",
            " 7   original_language      693 non-null    object \n",
            " 8   original_title         693 non-null    object \n",
            " 9   overview               693 non-null    object \n",
            " 10  popularity             693 non-null    object \n",
            " 11  poster_path            693 non-null    object \n",
            " 12  production_companies   693 non-null    object \n",
            " 13  production_countries   693 non-null    object \n",
            " 14  release_date           693 non-null    object \n",
            " 15  revenue                693 non-null    float64\n",
            " 16  runtime                693 non-null    float64\n",
            " 17  spoken_languages       693 non-null    object \n",
            " 18  status                 693 non-null    object \n",
            " 19  tagline                693 non-null    object \n",
            " 20  title                  693 non-null    object \n",
            " 21  video                  693 non-null    object \n",
            " 22  vote_average           693 non-null    float64\n",
            " 23  vote_count             693 non-null    float64\n",
            "dtypes: float64(4), object(20)\n",
            "memory usage: 135.4+ KB\n"
          ]
        }
      ]
    },
    {
      "cell_type": "markdown",
      "source": [
        "Di sini kita menambahkan 2 variabel lain. Yaitu: budget, dan popularity\n"
      ],
      "metadata": {
        "id": "2Pl2-hk1YvID"
      }
    },
    {
      "cell_type": "markdown",
      "source": [
        "Ubah type dari variabel popularity, dan budget menjadi numerik(float)."
      ],
      "metadata": {
        "id": "cEOkBKtsaX4d"
      }
    },
    {
      "cell_type": "code",
      "source": [
        "df['budget'] = df['budget'].astype(float) \n",
        "df['popularity'] = df['popularity'].astype(float) "
      ],
      "metadata": {
        "id": "glk1VhxW0FZ5"
      },
      "execution_count": null,
      "outputs": []
    },
    {
      "cell_type": "markdown",
      "source": [
        "Kita cek kembali, apakah tipe dari variabel tersebut sudah terganti."
      ],
      "metadata": {
        "id": "tzwG0KqFbjVg"
      }
    },
    {
      "cell_type": "code",
      "source": [
        "df.dtypes"
      ],
      "metadata": {
        "colab": {
          "base_uri": "https://localhost:8080/"
        },
        "id": "HMqdPL-Wa_0U",
        "outputId": "6b1fecd3-067c-44ca-be79-5f9401c89bcf"
      },
      "execution_count": null,
      "outputs": [
        {
          "output_type": "execute_result",
          "data": {
            "text/plain": [
              "adult                     object\n",
              "belongs_to_collection     object\n",
              "budget                   float64\n",
              "genres                    object\n",
              "homepage                  object\n",
              "id                        object\n",
              "imdb_id                   object\n",
              "original_language         object\n",
              "original_title            object\n",
              "overview                  object\n",
              "popularity               float64\n",
              "poster_path               object\n",
              "production_companies      object\n",
              "production_countries      object\n",
              "release_date              object\n",
              "revenue                  float64\n",
              "runtime                  float64\n",
              "spoken_languages          object\n",
              "status                    object\n",
              "tagline                   object\n",
              "title                     object\n",
              "video                     object\n",
              "vote_average             float64\n",
              "vote_count               float64\n",
              "dtype: object"
            ]
          },
          "metadata": {},
          "execution_count": 10
        }
      ]
    },
    {
      "cell_type": "code",
      "source": [
        "sns.heatmap(df.corr('spearman'), square=True, cmap='RdYlGn',annot=True, annot_kws={\"fontsize\":6})"
      ],
      "metadata": {
        "id": "h8CgjZXVdbYr",
        "outputId": "85e5e9b5-e18a-49fe-f8af-8c42bee15c2b",
        "colab": {
          "base_uri": "https://localhost:8080/",
          "height": 522
        }
      },
      "execution_count": null,
      "outputs": [
        {
          "output_type": "execute_result",
          "data": {
            "text/plain": [
              "<matplotlib.axes._subplots.AxesSubplot at 0x7f8ab3d68d90>"
            ]
          },
          "metadata": {},
          "execution_count": 11
        },
        {
          "output_type": "display_data",
          "data": {
            "text/plain": [
              "<Figure size 500x500 with 2 Axes>"
            ],
            "image/png": "[encoded data removed]"
          },
          "metadata": {}
        }
      ]
    },
    {
      "cell_type": "markdown",
      "source": [
        "Dari pembuatan heatmap kita dapat melihat 6 hal yang terdapat dalam pembuatan film. Dalam heatmap tersebut, korelasi antara budget dan revenue saling bersangkutan. Oleh karena itu, biaya yang dikeluarkan untuk pembuatan film sangat mempengaruhi keuntungan yang didapat. Dan juga, budget dan vote_count bisa dibilang berpengaruh satu sama lain."
      ],
      "metadata": {
        "id": "s5dvn5VsqMim"
      }
    },
    {
      "cell_type": "markdown",
      "source": [
        "# **Soal 3**"
      ],
      "metadata": {
        "id": "j1ZN2oT_qAwI"
      }
    },
    {
      "cell_type": "markdown",
      "source": [
        "Di sini kita membandingkan terlebih dahulu antara budget dan revenue. Dimana, budget sebagai variabel x. Dan, revenue pada variabel y."
      ],
      "metadata": {
        "id": "7UDtEkhzRov_"
      }
    },
    {
      "cell_type": "code",
      "source": [
        "# Preparing the data\n",
        "x = df[['budget']]\n",
        "y = df[['revenue']]"
      ],
      "metadata": {
        "id": "-SIe_dVBRjOw"
      },
      "execution_count": null,
      "outputs": []
    },
    {
      "cell_type": "markdown",
      "source": [
        "Lakukan import terlebih dahulu train_test_split. Agar kita dapat membagi terlebih dahulu menjadi data train dan data test. Pembagiannya dibagi menjadi 70:30. 70% untuk data train, dan 30% untuk data testnya."
      ],
      "metadata": {
        "id": "Opc-fKD1ih1K"
      }
    },
    {
      "cell_type": "code",
      "source": [
        "# Splitting the dataset into train and test sets\n",
        "from sklearn.model_selection import train_test_split\n",
        "x_train, x_test, y_train, y_test = train_test_split(x, y, test_size= 0.3, random_state = 10)"
      ],
      "metadata": {
        "id": "vGhi3q2dbUD_"
      },
      "execution_count": null,
      "outputs": []
    },
    {
      "cell_type": "markdown",
      "source": [
        "Import terlebih dahulu sebuah model yaitu Linear Regression yang sudah ada pada library sklearn."
      ],
      "metadata": {
        "id": "fvfVAFZyjHAU"
      }
    },
    {
      "cell_type": "code",
      "source": [
        "#Training a Linear Regression Model\n",
        "from sklearn.linear_model import LinearRegression\n",
        "regressor = LinearRegression()"
      ],
      "metadata": {
        "id": "yX0XcLijbT-l"
      },
      "execution_count": null,
      "outputs": []
    },
    {
      "cell_type": "markdown",
      "source": [
        "Kedua data train tersebut dijalankan menggunakan sebuah model yang ada."
      ],
      "metadata": {
        "id": "e9UTo70Jjoli"
      }
    },
    {
      "cell_type": "code",
      "source": [
        "# Fitting the training data to our model\n",
        "regressor.fit(x_train, y_train)"
      ],
      "metadata": {
        "colab": {
          "base_uri": "https://localhost:8080/"
        },
        "id": "Ba3gctGKajED",
        "outputId": "e19ab959-a946-413b-98f1-25840c1a3bdb"
      },
      "execution_count": null,
      "outputs": [
        {
          "output_type": "execute_result",
          "data": {
            "text/plain": [
              "LinearRegression()"
            ]
          },
          "metadata": {},
          "execution_count": 15
        }
      ]
    },
    {
      "cell_type": "code",
      "source": [
        "#check prediction score/accuracy\n",
        "regressor.score(x_test, y_test)"
      ],
      "metadata": {
        "colab": {
          "base_uri": "https://localhost:8080/"
        },
        "id": "Jd4rHAWAaiv0",
        "outputId": "8c3bddd1-b2c7-4a5b-ce9b-ba2ab35e4d2f"
      },
      "execution_count": null,
      "outputs": [
        {
          "output_type": "execute_result",
          "data": {
            "text/plain": [
              "0.7228548196698258"
            ]
          },
          "metadata": {},
          "execution_count": 16
        }
      ]
    },
    {
      "cell_type": "markdown",
      "source": [
        "Dari data di atas dapat ditarik sebuah kesimpulan. Bahwa sebuah akurasi dari sebuah model linear regresi pada sebuah variabel 'budget', dan 'revenue' sebesar 0.7228548196698258."
      ],
      "metadata": {
        "id": "LERhdt_vjw2U"
      }
    },
    {
      "cell_type": "markdown",
      "source": [
        "# **Soal 4**"
      ],
      "metadata": {
        "id": "UracM9tqgKiW"
      }
    },
    {
      "cell_type": "markdown",
      "source": [
        "Lakukan sebuah uji coba untuk melihat hasilnya."
      ],
      "metadata": {
        "id": "z6aO6sWSkzj4"
      }
    },
    {
      "cell_type": "code",
      "source": [
        "y_pred=regressor.predict(x_test)\n",
        "evaluate = pd.DataFrame({'Actual': y_test.values.flatten(),'Predicted': y_pred.flatten()})\n",
        "evaluate.head(10)"
      ],
      "metadata": {
        "colab": {
          "base_uri": "https://localhost:8080/",
          "height": 363
        },
        "id": "cxNhN_o7amOc",
        "outputId": "34c0af27-3656-4e6d-daa3-dfdc3f4dd6a6"
      },
      "execution_count": null,
      "outputs": [
        {
          "output_type": "execute_result",
          "data": {
            "text/plain": [
              "        Actual     Predicted\n",
              "0   33395426.0  4.703124e+07\n",
              "1          0.0  2.373022e+07\n",
              "2  956019788.0  1.028085e+09\n",
              "3  201585328.0  1.924618e+08\n",
              "4          0.0  2.373022e+07\n",
              "5  363164265.0  3.652107e+08\n",
              "6  783112979.0  2.567404e+08\n",
              "7   68411275.0  8.800890e+07\n",
              "8  333000000.0  1.362179e+08\n",
              "9   29907685.0  1.763921e+08"
            ],
            "text/html": [
              "\n",
              "  <div id=\"df-3cdca5ef-0868-45fc-8294-f173f53954ed\">\n",
              "    <div class=\"colab-df-container\">\n",
              "      <div>\n",
              "<style scoped>\n",
              "    .dataframe tbody tr th:only-of-type {\n",
              "        vertical-align: middle;\n",
              "    }\n",
              "\n",
              "    .dataframe tbody tr th {\n",
              "        vertical-align: top;\n",
              "    }\n",
              "\n",
              "    .dataframe thead th {\n",
              "        text-align: right;\n",
              "    }\n",
              "</style>\n",
              "<table border=\"1\" class=\"dataframe\">\n",
              "  <thead>\n",
              "    <tr style=\"text-align: right;\">\n",
              "      <th></th>\n",
              "      <th>Actual</th>\n",
              "      <th>Predicted</th>\n",
              "    </tr>\n",
              "  </thead>\n",
              "  <tbody>\n",
              "    <tr>\n",
              "      <th>0</th>\n",
              "      <td>33395426.0</td>\n",
              "      <td>4.703124e+07</td>\n",
              "    </tr>\n",
              "    <tr>\n",
              "      <th>1</th>\n",
              "      <td>0.0</td>\n",
              "      <td>2.373022e+07</td>\n",
              "    </tr>\n",
              "    <tr>\n",
              "      <th>2</th>\n",
              "      <td>956019788.0</td>\n",
              "      <td>1.028085e+09</td>\n",
              "    </tr>\n",
              "    <tr>\n",
              "      <th>3</th>\n",
              "      <td>201585328.0</td>\n",
              "      <td>1.924618e+08</td>\n",
              "    </tr>\n",
              "    <tr>\n",
              "      <th>4</th>\n",
              "      <td>0.0</td>\n",
              "      <td>2.373022e+07</td>\n",
              "    </tr>\n",
              "    <tr>\n",
              "      <th>5</th>\n",
              "      <td>363164265.0</td>\n",
              "      <td>3.652107e+08</td>\n",
              "    </tr>\n",
              "    <tr>\n",
              "      <th>6</th>\n",
              "      <td>783112979.0</td>\n",
              "      <td>2.567404e+08</td>\n",
              "    </tr>\n",
              "    <tr>\n",
              "      <th>7</th>\n",
              "      <td>68411275.0</td>\n",
              "      <td>8.800890e+07</td>\n",
              "    </tr>\n",
              "    <tr>\n",
              "      <th>8</th>\n",
              "      <td>333000000.0</td>\n",
              "      <td>1.362179e+08</td>\n",
              "    </tr>\n",
              "    <tr>\n",
              "      <th>9</th>\n",
              "      <td>29907685.0</td>\n",
              "      <td>1.763921e+08</td>\n",
              "    </tr>\n",
              "  </tbody>\n",
              "</table>\n",
              "</div>\n",
              "      <button class=\"colab-df-convert\" onclick=\"convertToInteractive('df-3cdca5ef-0868-45fc-8294-f173f53954ed')\"\n",
              "              title=\"Convert this dataframe to an interactive table.\"\n",
              "              style=\"display:none;\">\n",
              "        \n",
              "  <svg xmlns=\"http://www.w3.org/2000/svg\" height=\"24px\"viewBox=\"0 0 24 24\"\n",
              "       width=\"24px\">\n",
              "    <path d=\"M0 0h24v24H0V0z\" fill=\"none\"/>\n",
              "    <path d=\"M18.56 5.44l.94 2.06.94-2.06 2.06-.94-2.06-.94-.94-2.06-.94 2.06-2.06.94zm-11 1L8.5 8.5l.94-2.06 2.06-.94-2.06-.94L8.5 2.5l-.94 2.06-2.06.94zm10 10l.94 2.06.94-2.06 2.06-.94-2.06-.94-.94-2.06-.94 2.06-2.06.94z\"/><path d=\"M17.41 7.96l-1.37-1.37c-.4-.4-.92-.59-1.43-.59-.52 0-1.04.2-1.43.59L10.3 9.45l-7.72 7.72c-.78.78-.78 2.05 0 2.83L4 21.41c.39.39.9.59 1.41.59.51 0 1.02-.2 1.41-.59l7.78-7.78 2.81-2.81c.8-.78.8-2.07 0-2.86zM5.41 20L4 18.59l7.72-7.72 1.47 1.35L5.41 20z\"/>\n",
              "  </svg>\n",
              "      </button>\n",
              "      \n",
              "  <style>\n",
              "    .colab-df-container {\n",
              "      display:flex;\n",
              "      flex-wrap:wrap;\n",
              "      gap: 12px;\n",
              "    }\n",
              "\n",
              "    .colab-df-convert {\n",
              "      background-color: #E8F0FE;\n",
              "      border: none;\n",
              "      border-radius: 50%;\n",
              "      cursor: pointer;\n",
              "      display: none;\n",
              "      fill: #1967D2;\n",
              "      height: 32px;\n",
              "      padding: 0 0 0 0;\n",
              "      width: 32px;\n",
              "    }\n",
              "\n",
              "    .colab-df-convert:hover {\n",
              "      background-color: #E2EBFA;\n",
              "      box-shadow: 0px 1px 2px rgba(60, 64, 67, 0.3), 0px 1px 3px 1px rgba(60, 64, 67, 0.15);\n",
              "      fill: #174EA6;\n",
              "    }\n",
              "\n",
              "    [theme=dark] .colab-df-convert {\n",
              "      background-color: #3B4455;\n",
              "      fill: #D2E3FC;\n",
              "    }\n",
              "\n",
              "    [theme=dark] .colab-df-convert:hover {\n",
              "      background-color: #434B5C;\n",
              "      box-shadow: 0px 1px 3px 1px rgba(0, 0, 0, 0.15);\n",
              "      filter: drop-shadow(0px 1px 2px rgba(0, 0, 0, 0.3));\n",
              "      fill: #FFFFFF;\n",
              "    }\n",
              "  </style>\n",
              "\n",
              "      <script>\n",
              "        const buttonEl =\n",
              "          document.querySelector('#df-3cdca5ef-0868-45fc-8294-f173f53954ed button.colab-df-convert');\n",
              "        buttonEl.style.display =\n",
              "          google.colab.kernel.accessAllowed ? 'block' : 'none';\n",
              "\n",
              "        async function convertToInteractive(key) {\n",
              "          const element = document.querySelector('#df-3cdca5ef-0868-45fc-8294-f173f53954ed');\n",
              "          const dataTable =\n",
              "            await google.colab.kernel.invokeFunction('convertToInteractive',\n",
              "                                                     [key], {});\n",
              "          if (!dataTable) return;\n",
              "\n",
              "          const docLinkHtml = 'Like what you see? Visit the ' +\n",
              "            '<a target=\"_blank\" href=https://colab.research.google.com/notebooks/data_table.ipynb>data table notebook</a>'\n",
              "            + ' to learn more about interactive tables.';\n",
              "          element.innerHTML = '';\n",
              "          dataTable['output_type'] = 'display_data';\n",
              "          await google.colab.output.renderOutput(dataTable, element);\n",
              "          const docLink = document.createElement('div');\n",
              "          docLink.innerHTML = docLinkHtml;\n",
              "          element.appendChild(docLink);\n",
              "        }\n",
              "      </script>\n",
              "    </div>\n",
              "  </div>\n",
              "  "
            ]
          },
          "metadata": {},
          "execution_count": 17
        }
      ]
    },
    {
      "cell_type": "markdown",
      "source": [
        "Telah terbentuk tabel data yang berisi data predict dengan data actual menggunakan algoritma regresi linear. Kemudian, dilakukan proses visualisasi data dengan grafik batang berdasarkan tabel diatas."
      ],
      "metadata": {
        "id": "qIVjBnT_k6d-"
      }
    },
    {
      "cell_type": "code",
      "source": [
        "evaluate.head(10).plot(kind = 'bar')"
      ],
      "metadata": {
        "colab": {
          "base_uri": "https://localhost:8080/",
          "height": 471
        },
        "id": "K7O0I2aqgcBx",
        "outputId": "f30549a8-a87b-4b6b-8010-32dd00678410"
      },
      "execution_count": null,
      "outputs": [
        {
          "output_type": "execute_result",
          "data": {
            "text/plain": [
              "<matplotlib.axes._subplots.AxesSubplot at 0x7f8ab12b1e50>"
            ]
          },
          "metadata": {},
          "execution_count": 18
        },
        {
          "output_type": "display_data",
          "data": {
            "text/plain": [
              "<Figure size 500x500 with 1 Axes>"
            ],
            "image/png": "[encoded data removed]"
          },
          "metadata": {}
        }
      ]
    },
    {
      "cell_type": "markdown",
      "source": [
        "Grafik batang dari tabel sebelumnya telah berhasil terbuat."
      ],
      "metadata": {
        "id": "YLWk-t4Xu2oQ"
      }
    },
    {
      "cell_type": "markdown",
      "source": [
        "# **Soal 5**"
      ],
      "metadata": {
        "id": "2ZZXEN3rhpC-"
      }
    },
    {
      "cell_type": "markdown",
      "source": [
        "Membuat R2 dan MSE"
      ],
      "metadata": {
        "id": "nS-nR29nwSwh"
      }
    },
    {
      "cell_type": "code",
      "source": [
        "# Scoring the model\n",
        "from sklearn.metrics import r2_score,mean_squared_error,mean_absolute_error\n",
        "# R2 Score\n",
        "print(f\"R2 score: {r2_score(y_test, y_pred)}\")\n",
        "# Mean Squared Error (MSE)\n",
        "print(f\"MSE score: {mean_squared_error(y_test, y_pred)}\")"
      ],
      "metadata": {
        "colab": {
          "base_uri": "https://localhost:8080/"
        },
        "id": "DVCmLdYCgb4b",
        "outputId": "eb4f4ce5-a86d-4fa5-9238-2c54b59d0c27"
      },
      "execution_count": null,
      "outputs": [
        {
          "output_type": "stream",
          "name": "stdout",
          "text": [
            "R2 score: 0.7228548196698258\n",
            "MSE score: 2.5739726859093052e+16\n"
          ]
        }
      ]
    },
    {
      "cell_type": "markdown",
      "source": [
        "Dari hasil diatas dapat dianalisis. Bahwa, score R2 mendapatkan hasil 0.72, dan MSE sebesar 2.5. Oleh sebab itu, karena nilai rata-rata kesalahan(MSE) mendapatkan nilai sebesar 2.5. Maka, hasil prediksi terlalu banyak sebuah kesalahan dan tidak bisa menjadi acuan."
      ],
      "metadata": {
        "id": "tO9c3rCewv70"
      }
    },
    {
      "cell_type": "markdown",
      "source": [
        "# **Soal 6**"
      ],
      "metadata": {
        "id": "GpxVT1eLhyqc"
      }
    },
    {
      "cell_type": "markdown",
      "source": [
        "Membuat plotting sederhana untuk mengambil kesimpulan analisa berdasarkan evaluasi dari regresi linier."
      ],
      "metadata": {
        "id": "2IQVQg-rxcHF"
      }
    },
    {
      "cell_type": "code",
      "source": [
        "sns.lmplot(x = 'budget', y = 'revenue', data = df)"
      ],
      "metadata": {
        "colab": {
          "base_uri": "https://localhost:8080/",
          "height": 518
        },
        "id": "n_U4gzTlamLd",
        "outputId": "f96f9fa0-4fe1-405c-9eec-587eea7618a1"
      },
      "execution_count": null,
      "outputs": [
        {
          "output_type": "execute_result",
          "data": {
            "text/plain": [
              "<seaborn.axisgrid.FacetGrid at 0x7f8ab2011ed0>"
            ]
          },
          "metadata": {},
          "execution_count": 20
        },
        {
          "output_type": "display_data",
          "data": {
            "text/plain": [
              "<Figure size 500x500 with 1 Axes>"
            ],
            "image/png": "[encoded data removed]"
          },
          "metadata": {}
        }
      ]
    },
    {
      "cell_type": "markdown",
      "source": [
        "Dapat ditarik kesimpulan, bahwa keuntungan yang didapat akan selalu meningkat seiring dengan banyaknya biaya yang dikeluarkan ketika membuat film sesuai dengan plotting di atas. Tetapi, ada beberapa film yang keuntungannya tinggi namun biaya yang dikeluarkan tidak terlalu banyak."
      ],
      "metadata": {
        "id": "uHW2He-VxgOi"
      }
    },
    {
      "cell_type": "markdown",
      "source": [
        "# **Perbandingan lain antara \"budget\" dan \"vote_count\"**"
      ],
      "metadata": {
        "id": "HVtWkgsPh3dY"
      }
    },
    {
      "cell_type": "markdown",
      "source": [
        "Di sini, kita membandingan suatu variabel lagin antara budget, dan vote_count. Di mana, variabel x akan diisi oleh budget. Dan, variabel y akan diisi dengan vote_count."
      ],
      "metadata": {
        "id": "Ri_WpI71yZfW"
      }
    },
    {
      "cell_type": "code",
      "source": [
        "# Preparing the data\n",
        "x = df[['budget']]\n",
        "y = df[['vote_count']]"
      ],
      "metadata": {
        "id": "dbJvRnZzamIx"
      },
      "execution_count": null,
      "outputs": []
    },
    {
      "cell_type": "markdown",
      "source": [
        "Kita lakukan pembagian data menjadi data test dan data train."
      ],
      "metadata": {
        "id": "XBKUo-AN0fcU"
      }
    },
    {
      "cell_type": "code",
      "source": [
        "# Splitting the dataset into train and test sets\n",
        "x_train, x_test, y_train, y_test = train_test_split(x, y, test_size= 0.3, random_state = 10)"
      ],
      "metadata": {
        "id": "Bbc3hLoVamCk"
      },
      "execution_count": null,
      "outputs": []
    },
    {
      "cell_type": "markdown",
      "source": [
        "Karena sebelumnya linear regression sudah dipanggil. Maka, kita tinggal melakukan fitting ulang saja terhadap x_train, dan y_train."
      ],
      "metadata": {
        "id": "TNNVC45Q0sQ9"
      }
    },
    {
      "cell_type": "code",
      "source": [
        "regressor.fit(x_train, y_train)"
      ],
      "metadata": {
        "colab": {
          "base_uri": "https://localhost:8080/"
        },
        "id": "apcMhygfXi9T",
        "outputId": "cbeb6435-2145-477f-d231-26452f006e58"
      },
      "execution_count": null,
      "outputs": [
        {
          "output_type": "execute_result",
          "data": {
            "text/plain": [
              "LinearRegression()"
            ]
          },
          "metadata": {},
          "execution_count": 23
        }
      ]
    },
    {
      "cell_type": "code",
      "source": [
        "regressor.score(x_test, y_test)"
      ],
      "metadata": {
        "colab": {
          "base_uri": "https://localhost:8080/"
        },
        "id": "2DQUW65wXins",
        "outputId": "49fe4126-1906-4959-e8de-d02990af7c93"
      },
      "execution_count": null,
      "outputs": [
        {
          "output_type": "execute_result",
          "data": {
            "text/plain": [
              "0.4521868113264277"
            ]
          },
          "metadata": {},
          "execution_count": 24
        }
      ]
    },
    {
      "cell_type": "markdown",
      "source": [
        "Maka, pada hasil test mendapat score sebesar 0.42. Lalu, kita buat sebuah pengujian dari hasil sebelumnya."
      ],
      "metadata": {
        "id": "2P07H0Eb08SI"
      }
    },
    {
      "cell_type": "code",
      "source": [
        "y_pred=regressor.predict(x_test)\n",
        "evaluate = pd.DataFrame({'Actual': y_test.values.flatten(),\n",
        "                         'Predicted': y_pred.flatten()})\n",
        "evaluate.head(10)"
      ],
      "metadata": {
        "colab": {
          "base_uri": "https://localhost:8080/",
          "height": 363
        },
        "id": "PF8c4sTPSbWF",
        "outputId": "4212df10-21ad-48f1-d957-9c621144d58c"
      },
      "execution_count": null,
      "outputs": [
        {
          "output_type": "execute_result",
          "data": {
            "text/plain": [
              "    Actual    Predicted\n",
              "0    958.0   606.206407\n",
              "1     13.0   476.555445\n",
              "2   4884.0  6064.958951\n",
              "3   4151.0  1415.407234\n",
              "4      6.0   476.555445\n",
              "5   2426.0  2376.612637\n",
              "6  11444.0  1773.065059\n",
              "7    144.0   834.213270\n",
              "8   2841.0  1102.456638\n",
              "9    154.0  1325.992778"
            ],
            "text/html": [
              "\n",
              "  <div id=\"df-faef60a1-2167-4c2d-931f-1643c9dccd35\">\n",
              "    <div class=\"colab-df-container\">\n",
              "      <div>\n",
              "<style scoped>\n",
              "    .dataframe tbody tr th:only-of-type {\n",
              "        vertical-align: middle;\n",
              "    }\n",
              "\n",
              "    .dataframe tbody tr th {\n",
              "        vertical-align: top;\n",
              "    }\n",
              "\n",
              "    .dataframe thead th {\n",
              "        text-align: right;\n",
              "    }\n",
              "</style>\n",
              "<table border=\"1\" class=\"dataframe\">\n",
              "  <thead>\n",
              "    <tr style=\"text-align: right;\">\n",
              "      <th></th>\n",
              "      <th>Actual</th>\n",
              "      <th>Predicted</th>\n",
              "    </tr>\n",
              "  </thead>\n",
              "  <tbody>\n",
              "    <tr>\n",
              "      <th>0</th>\n",
              "      <td>958.0</td>\n",
              "      <td>606.206407</td>\n",
              "    </tr>\n",
              "    <tr>\n",
              "      <th>1</th>\n",
              "      <td>13.0</td>\n",
              "      <td>476.555445</td>\n",
              "    </tr>\n",
              "    <tr>\n",
              "      <th>2</th>\n",
              "      <td>4884.0</td>\n",
              "      <td>6064.958951</td>\n",
              "    </tr>\n",
              "    <tr>\n",
              "      <th>3</th>\n",
              "      <td>4151.0</td>\n",
              "      <td>1415.407234</td>\n",
              "    </tr>\n",
              "    <tr>\n",
              "      <th>4</th>\n",
              "      <td>6.0</td>\n",
              "      <td>476.555445</td>\n",
              "    </tr>\n",
              "    <tr>\n",
              "      <th>5</th>\n",
              "      <td>2426.0</td>\n",
              "      <td>2376.612637</td>\n",
              "    </tr>\n",
              "    <tr>\n",
              "      <th>6</th>\n",
              "      <td>11444.0</td>\n",
              "      <td>1773.065059</td>\n",
              "    </tr>\n",
              "    <tr>\n",
              "      <th>7</th>\n",
              "      <td>144.0</td>\n",
              "      <td>834.213270</td>\n",
              "    </tr>\n",
              "    <tr>\n",
              "      <th>8</th>\n",
              "      <td>2841.0</td>\n",
              "      <td>1102.456638</td>\n",
              "    </tr>\n",
              "    <tr>\n",
              "      <th>9</th>\n",
              "      <td>154.0</td>\n",
              "      <td>1325.992778</td>\n",
              "    </tr>\n",
              "  </tbody>\n",
              "</table>\n",
              "</div>\n",
              "      <button class=\"colab-df-convert\" onclick=\"convertToInteractive('df-faef60a1-2167-4c2d-931f-1643c9dccd35')\"\n",
              "              title=\"Convert this dataframe to an interactive table.\"\n",
              "              style=\"display:none;\">\n",
              "        \n",
              "  <svg xmlns=\"http://www.w3.org/2000/svg\" height=\"24px\"viewBox=\"0 0 24 24\"\n",
              "       width=\"24px\">\n",
              "    <path d=\"M0 0h24v24H0V0z\" fill=\"none\"/>\n",
              "    <path d=\"M18.56 5.44l.94 2.06.94-2.06 2.06-.94-2.06-.94-.94-2.06-.94 2.06-2.06.94zm-11 1L8.5 8.5l.94-2.06 2.06-.94-2.06-.94L8.5 2.5l-.94 2.06-2.06.94zm10 10l.94 2.06.94-2.06 2.06-.94-2.06-.94-.94-2.06-.94 2.06-2.06.94z\"/><path d=\"M17.41 7.96l-1.37-1.37c-.4-.4-.92-.59-1.43-.59-.52 0-1.04.2-1.43.59L10.3 9.45l-7.72 7.72c-.78.78-.78 2.05 0 2.83L4 21.41c.39.39.9.59 1.41.59.51 0 1.02-.2 1.41-.59l7.78-7.78 2.81-2.81c.8-.78.8-2.07 0-2.86zM5.41 20L4 18.59l7.72-7.72 1.47 1.35L5.41 20z\"/>\n",
              "  </svg>\n",
              "      </button>\n",
              "      \n",
              "  <style>\n",
              "    .colab-df-container {\n",
              "      display:flex;\n",
              "      flex-wrap:wrap;\n",
              "      gap: 12px;\n",
              "    }\n",
              "\n",
              "    .colab-df-convert {\n",
              "      background-color: #E8F0FE;\n",
              "      border: none;\n",
              "      border-radius: 50%;\n",
              "      cursor: pointer;\n",
              "      display: none;\n",
              "      fill: #1967D2;\n",
              "      height: 32px;\n",
              "      padding: 0 0 0 0;\n",
              "      width: 32px;\n",
              "    }\n",
              "\n",
              "    .colab-df-convert:hover {\n",
              "      background-color: #E2EBFA;\n",
              "      box-shadow: 0px 1px 2px rgba(60, 64, 67, 0.3), 0px 1px 3px 1px rgba(60, 64, 67, 0.15);\n",
              "      fill: #174EA6;\n",
              "    }\n",
              "\n",
              "    [theme=dark] .colab-df-convert {\n",
              "      background-color: #3B4455;\n",
              "      fill: #D2E3FC;\n",
              "    }\n",
              "\n",
              "    [theme=dark] .colab-df-convert:hover {\n",
              "      background-color: #434B5C;\n",
              "      box-shadow: 0px 1px 3px 1px rgba(0, 0, 0, 0.15);\n",
              "      filter: drop-shadow(0px 1px 2px rgba(0, 0, 0, 0.3));\n",
              "      fill: #FFFFFF;\n",
              "    }\n",
              "  </style>\n",
              "\n",
              "      <script>\n",
              "        const buttonEl =\n",
              "          document.querySelector('#df-faef60a1-2167-4c2d-931f-1643c9dccd35 button.colab-df-convert');\n",
              "        buttonEl.style.display =\n",
              "          google.colab.kernel.accessAllowed ? 'block' : 'none';\n",
              "\n",
              "        async function convertToInteractive(key) {\n",
              "          const element = document.querySelector('#df-faef60a1-2167-4c2d-931f-1643c9dccd35');\n",
              "          const dataTable =\n",
              "            await google.colab.kernel.invokeFunction('convertToInteractive',\n",
              "                                                     [key], {});\n",
              "          if (!dataTable) return;\n",
              "\n",
              "          const docLinkHtml = 'Like what you see? Visit the ' +\n",
              "            '<a target=\"_blank\" href=https://colab.research.google.com/notebooks/data_table.ipynb>data table notebook</a>'\n",
              "            + ' to learn more about interactive tables.';\n",
              "          element.innerHTML = '';\n",
              "          dataTable['output_type'] = 'display_data';\n",
              "          await google.colab.output.renderOutput(dataTable, element);\n",
              "          const docLink = document.createElement('div');\n",
              "          docLink.innerHTML = docLinkHtml;\n",
              "          element.appendChild(docLink);\n",
              "        }\n",
              "      </script>\n",
              "    </div>\n",
              "  </div>\n",
              "  "
            ]
          },
          "metadata": {},
          "execution_count": 25
        }
      ]
    },
    {
      "cell_type": "markdown",
      "source": [
        "Setelah membentuk sebuah tabel. Langkah selanjutnya, buat sebuah grafik batang dari tabel."
      ],
      "metadata": {
        "id": "ofJrDNur1Qoc"
      }
    },
    {
      "cell_type": "code",
      "source": [
        "evaluate.head(10).plot(kind = 'bar')"
      ],
      "metadata": {
        "colab": {
          "base_uri": "https://localhost:8080/",
          "height": 460
        },
        "id": "W0Ad2A0nyipV",
        "outputId": "1bbd13d7-223e-4a2c-da36-257e1bf10cba"
      },
      "execution_count": null,
      "outputs": [
        {
          "output_type": "execute_result",
          "data": {
            "text/plain": [
              "<matplotlib.axes._subplots.AxesSubplot at 0x7f8ab1ff1190>"
            ]
          },
          "metadata": {},
          "execution_count": 26
        },
        {
          "output_type": "display_data",
          "data": {
            "text/plain": [
              "<Figure size 500x500 with 1 Axes>"
            ],
            "image/png": "[encoded data removed]"
          },
          "metadata": {}
        }
      ]
    },
    {
      "cell_type": "code",
      "source": [
        "# Scoring the model\n",
        "from sklearn.metrics import r2_score,mean_squared_error,mean_absolute_error\n",
        "# R2 Score\n",
        "print(f\"R2 score: {r2_score(y_test, y_pred)}\")\n",
        "# Mean Squared Error (MSE)\n",
        "print(f\"MSE score: {mean_squared_error(y_test, y_pred)}\")"
      ],
      "metadata": {
        "colab": {
          "base_uri": "https://localhost:8080/"
        },
        "id": "zZUgEzijyim0",
        "outputId": "5aec1df0-c9eb-451f-d945-789aae29ee41"
      },
      "execution_count": null,
      "outputs": [
        {
          "output_type": "stream",
          "name": "stdout",
          "text": [
            "R2 score: 0.4521868113264277\n",
            "MSE score: 3227947.402465515\n"
          ]
        }
      ]
    },
    {
      "cell_type": "markdown",
      "source": [
        "Dari hasil diatas dapat dianalisis. Bahwa, score R2 mendapatkan hasil 0.42, dan MSE sebesar 3227947.40. Hasil tersebut jauh dari kata bagus. Dikarenakan rata-rata kesalahan sangatlah besar. Maka, hasil prediksi tidak bisa menjadi acuan atau tidak dapat dilanjutkan."
      ],
      "metadata": {
        "id": "K-foC7ZJ14Vr"
      }
    },
    {
      "cell_type": "code",
      "source": [
        "sns.lmplot(x = 'budget', y = 'vote_count', data = df)"
      ],
      "metadata": {
        "colab": {
          "base_uri": "https://localhost:8080/",
          "height": 518
        },
        "id": "cVB14jNlyikx",
        "outputId": "62f05b5c-81aa-4b8b-b3eb-6b2f65f1d593"
      },
      "execution_count": null,
      "outputs": [
        {
          "output_type": "execute_result",
          "data": {
            "text/plain": [
              "<seaborn.axisgrid.FacetGrid at 0x7f8ab2056510>"
            ]
          },
          "metadata": {},
          "execution_count": 28
        },
        {
          "output_type": "display_data",
          "data": {
            "text/plain": [
              "<Figure size 500x500 with 1 Axes>"
            ],
            "image/png": "[encoded data removed]"
          },
          "metadata": {}
        }
      ]
    },
    {
      "cell_type": "markdown",
      "source": [
        "Pada plotting di atas dapat dilihat. Bahwa, biaya yang dikeluarkan untuk pembuatan film tidak terlalu berhubungan dengan banyaknya orang yang suka."
      ],
      "metadata": {
        "id": "dZU7NWm42ZVe"
      }
    },
    {
      "cell_type": "markdown",
      "source": [
        "# **KESIMPULAN**"
      ],
      "metadata": {
        "id": "-Lz7DYa62SZz"
      }
    },
    {
      "cell_type": "markdown",
      "source": [
        "Dapat ditarik kesimpulan, Apabila ingin mendapatkan banyak voting dari suatu film. Kita tidak harus memperbesar biaya yang dikeluarkan. Dan juga, apabila ingin mendapat keuntungan dari pembuatan film. Tidak selalu harus mengeluarkan banyak biaya."
      ],
      "metadata": {
        "id": "1hyVFFCT2XON"
      }
    }
  ]
}